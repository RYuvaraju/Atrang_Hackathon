{
 "cells": [
  {
   "cell_type": "markdown",
   "metadata": {},
   "source": [
    "# COVID 19 Analysis and Prediction based on symptoms"
   ]
  },
  {
   "cell_type": "code",
   "execution_count": 1,
   "metadata": {
    "execution": {
     "iopub.execute_input": "2021-10-11T20:57:52.061050Z",
     "iopub.status.busy": "2021-10-11T20:57:52.060542Z",
     "iopub.status.idle": "2021-10-11T20:57:53.003293Z",
     "shell.execute_reply": "2021-10-11T20:57:53.002241Z",
     "shell.execute_reply.started": "2021-10-11T20:57:52.060913Z"
    }
   },
   "outputs": [],
   "source": [
    "#import libraries\n",
    "import numpy as np\n",
    "import pandas as pd\n",
    "import warnings\n",
    "import matplotlib.pyplot as plt\n",
    "import seaborn as sns"
   ]
  },
  {
   "cell_type": "code",
   "execution_count": 3,
   "metadata": {
    "execution": {
     "iopub.execute_input": "2021-10-11T20:57:56.499910Z",
     "iopub.status.busy": "2021-10-11T20:57:56.498814Z",
     "iopub.status.idle": "2021-10-11T20:57:57.093449Z",
     "shell.execute_reply": "2021-10-11T20:57:57.092473Z",
     "shell.execute_reply.started": "2021-10-11T20:57:56.499863Z"
    }
   },
   "outputs": [],
   "source": [
    "covid = pd.read_csv(\"C:\\\\Users\\\\91951\\\\Downloads\\\\corona_tested_individuals_ver_006.english.csv\")"
   ]
  },
  {
   "cell_type": "markdown",
   "metadata": {},
   "source": [
    "# Exploratory data analysis"
   ]
  },
  {
   "cell_type": "code",
   "execution_count": 4,
   "metadata": {
    "execution": {
     "iopub.execute_input": "2021-10-11T20:57:59.749094Z",
     "iopub.status.busy": "2021-10-11T20:57:59.748762Z",
     "iopub.status.idle": "2021-10-11T20:57:59.778626Z",
     "shell.execute_reply": "2021-10-11T20:57:59.777864Z",
     "shell.execute_reply.started": "2021-10-11T20:57:59.749063Z"
    }
   },
   "outputs": [
    {
     "data": {
      "text/html": [
       "<div>\n",
       "<style scoped>\n",
       "    .dataframe tbody tr th:only-of-type {\n",
       "        vertical-align: middle;\n",
       "    }\n",
       "\n",
       "    .dataframe tbody tr th {\n",
       "        vertical-align: top;\n",
       "    }\n",
       "\n",
       "    .dataframe thead th {\n",
       "        text-align: right;\n",
       "    }\n",
       "</style>\n",
       "<table border=\"1\" class=\"dataframe\">\n",
       "  <thead>\n",
       "    <tr style=\"text-align: right;\">\n",
       "      <th></th>\n",
       "      <th>test_date</th>\n",
       "      <th>cough</th>\n",
       "      <th>fever</th>\n",
       "      <th>sore_throat</th>\n",
       "      <th>shortness_of_breath</th>\n",
       "      <th>head_ache</th>\n",
       "      <th>corona_result</th>\n",
       "      <th>age_60_and_above</th>\n",
       "      <th>gender</th>\n",
       "      <th>test_indication</th>\n",
       "    </tr>\n",
       "  </thead>\n",
       "  <tbody>\n",
       "    <tr>\n",
       "      <th>0</th>\n",
       "      <td>2020-04-30</td>\n",
       "      <td>0</td>\n",
       "      <td>0</td>\n",
       "      <td>0</td>\n",
       "      <td>0</td>\n",
       "      <td>0</td>\n",
       "      <td>negative</td>\n",
       "      <td>None</td>\n",
       "      <td>female</td>\n",
       "      <td>Other</td>\n",
       "    </tr>\n",
       "    <tr>\n",
       "      <th>1</th>\n",
       "      <td>2020-04-30</td>\n",
       "      <td>1</td>\n",
       "      <td>0</td>\n",
       "      <td>0</td>\n",
       "      <td>0</td>\n",
       "      <td>0</td>\n",
       "      <td>negative</td>\n",
       "      <td>None</td>\n",
       "      <td>female</td>\n",
       "      <td>Other</td>\n",
       "    </tr>\n",
       "    <tr>\n",
       "      <th>2</th>\n",
       "      <td>2020-04-30</td>\n",
       "      <td>0</td>\n",
       "      <td>1</td>\n",
       "      <td>0</td>\n",
       "      <td>0</td>\n",
       "      <td>0</td>\n",
       "      <td>negative</td>\n",
       "      <td>None</td>\n",
       "      <td>male</td>\n",
       "      <td>Other</td>\n",
       "    </tr>\n",
       "    <tr>\n",
       "      <th>3</th>\n",
       "      <td>2020-04-30</td>\n",
       "      <td>1</td>\n",
       "      <td>0</td>\n",
       "      <td>0</td>\n",
       "      <td>0</td>\n",
       "      <td>0</td>\n",
       "      <td>negative</td>\n",
       "      <td>None</td>\n",
       "      <td>female</td>\n",
       "      <td>Other</td>\n",
       "    </tr>\n",
       "    <tr>\n",
       "      <th>4</th>\n",
       "      <td>2020-04-30</td>\n",
       "      <td>1</td>\n",
       "      <td>0</td>\n",
       "      <td>0</td>\n",
       "      <td>0</td>\n",
       "      <td>0</td>\n",
       "      <td>negative</td>\n",
       "      <td>None</td>\n",
       "      <td>male</td>\n",
       "      <td>Other</td>\n",
       "    </tr>\n",
       "  </tbody>\n",
       "</table>\n",
       "</div>"
      ],
      "text/plain": [
       "    test_date cough fever sore_throat shortness_of_breath head_ache  \\\n",
       "0  2020-04-30     0     0           0                   0         0   \n",
       "1  2020-04-30     1     0           0                   0         0   \n",
       "2  2020-04-30     0     1           0                   0         0   \n",
       "3  2020-04-30     1     0           0                   0         0   \n",
       "4  2020-04-30     1     0           0                   0         0   \n",
       "\n",
       "  corona_result age_60_and_above  gender test_indication  \n",
       "0      negative             None  female           Other  \n",
       "1      negative             None  female           Other  \n",
       "2      negative             None    male           Other  \n",
       "3      negative             None  female           Other  \n",
       "4      negative             None    male           Other  "
      ]
     },
     "execution_count": 4,
     "metadata": {},
     "output_type": "execute_result"
    }
   ],
   "source": [
    "covid.head()"
   ]
  },
  {
   "cell_type": "code",
   "execution_count": 6,
   "metadata": {},
   "outputs": [
    {
     "data": {
      "text/html": [
       "<div>\n",
       "<style scoped>\n",
       "    .dataframe tbody tr th:only-of-type {\n",
       "        vertical-align: middle;\n",
       "    }\n",
       "\n",
       "    .dataframe tbody tr th {\n",
       "        vertical-align: top;\n",
       "    }\n",
       "\n",
       "    .dataframe thead th {\n",
       "        text-align: right;\n",
       "    }\n",
       "</style>\n",
       "<table border=\"1\" class=\"dataframe\">\n",
       "  <thead>\n",
       "    <tr style=\"text-align: right;\">\n",
       "      <th></th>\n",
       "      <th>test_date</th>\n",
       "      <th>cough</th>\n",
       "      <th>fever</th>\n",
       "      <th>sore_throat</th>\n",
       "      <th>shortness_of_breath</th>\n",
       "      <th>head_ache</th>\n",
       "      <th>corona_result</th>\n",
       "      <th>age_60_and_above</th>\n",
       "      <th>gender</th>\n",
       "      <th>test_indication</th>\n",
       "    </tr>\n",
       "  </thead>\n",
       "  <tbody>\n",
       "    <tr>\n",
       "      <th>278843</th>\n",
       "      <td>2020-03-11</td>\n",
       "      <td>0</td>\n",
       "      <td>0</td>\n",
       "      <td>0</td>\n",
       "      <td>0</td>\n",
       "      <td>0</td>\n",
       "      <td>negative</td>\n",
       "      <td>None</td>\n",
       "      <td>None</td>\n",
       "      <td>Other</td>\n",
       "    </tr>\n",
       "    <tr>\n",
       "      <th>278844</th>\n",
       "      <td>2020-03-11</td>\n",
       "      <td>0</td>\n",
       "      <td>0</td>\n",
       "      <td>0</td>\n",
       "      <td>0</td>\n",
       "      <td>0</td>\n",
       "      <td>negative</td>\n",
       "      <td>None</td>\n",
       "      <td>None</td>\n",
       "      <td>Other</td>\n",
       "    </tr>\n",
       "    <tr>\n",
       "      <th>278845</th>\n",
       "      <td>2020-03-11</td>\n",
       "      <td>0</td>\n",
       "      <td>0</td>\n",
       "      <td>0</td>\n",
       "      <td>0</td>\n",
       "      <td>0</td>\n",
       "      <td>positive</td>\n",
       "      <td>None</td>\n",
       "      <td>None</td>\n",
       "      <td>Contact with confirmed</td>\n",
       "    </tr>\n",
       "    <tr>\n",
       "      <th>278846</th>\n",
       "      <td>2020-03-11</td>\n",
       "      <td>0</td>\n",
       "      <td>0</td>\n",
       "      <td>0</td>\n",
       "      <td>0</td>\n",
       "      <td>0</td>\n",
       "      <td>other</td>\n",
       "      <td>None</td>\n",
       "      <td>None</td>\n",
       "      <td>Other</td>\n",
       "    </tr>\n",
       "    <tr>\n",
       "      <th>278847</th>\n",
       "      <td>2020-03-11</td>\n",
       "      <td>0</td>\n",
       "      <td>0</td>\n",
       "      <td>0</td>\n",
       "      <td>0</td>\n",
       "      <td>0</td>\n",
       "      <td>negative</td>\n",
       "      <td>None</td>\n",
       "      <td>None</td>\n",
       "      <td>Other</td>\n",
       "    </tr>\n",
       "  </tbody>\n",
       "</table>\n",
       "</div>"
      ],
      "text/plain": [
       "         test_date cough fever sore_throat shortness_of_breath head_ache  \\\n",
       "278843  2020-03-11     0     0           0                   0         0   \n",
       "278844  2020-03-11     0     0           0                   0         0   \n",
       "278845  2020-03-11     0     0           0                   0         0   \n",
       "278846  2020-03-11     0     0           0                   0         0   \n",
       "278847  2020-03-11     0     0           0                   0         0   \n",
       "\n",
       "       corona_result age_60_and_above gender         test_indication  \n",
       "278843      negative             None   None                   Other  \n",
       "278844      negative             None   None                   Other  \n",
       "278845      positive             None   None  Contact with confirmed  \n",
       "278846         other             None   None                   Other  \n",
       "278847      negative             None   None                   Other  "
      ]
     },
     "execution_count": 6,
     "metadata": {},
     "output_type": "execute_result"
    }
   ],
   "source": [
    "covid.tail()"
   ]
  },
  {
   "cell_type": "code",
   "execution_count": 7,
   "metadata": {
    "execution": {
     "iopub.execute_input": "2021-10-11T20:58:02.704523Z",
     "iopub.status.busy": "2021-10-11T20:58:02.704164Z",
     "iopub.status.idle": "2021-10-11T20:58:03.376537Z",
     "shell.execute_reply": "2021-10-11T20:58:03.375688Z",
     "shell.execute_reply.started": "2021-10-11T20:58:02.704491Z"
    }
   },
   "outputs": [
    {
     "data": {
      "text/html": [
       "<div>\n",
       "<style scoped>\n",
       "    .dataframe tbody tr th:only-of-type {\n",
       "        vertical-align: middle;\n",
       "    }\n",
       "\n",
       "    .dataframe tbody tr th {\n",
       "        vertical-align: top;\n",
       "    }\n",
       "\n",
       "    .dataframe thead th {\n",
       "        text-align: right;\n",
       "    }\n",
       "</style>\n",
       "<table border=\"1\" class=\"dataframe\">\n",
       "  <thead>\n",
       "    <tr style=\"text-align: right;\">\n",
       "      <th></th>\n",
       "      <th>test_date</th>\n",
       "      <th>cough</th>\n",
       "      <th>fever</th>\n",
       "      <th>sore_throat</th>\n",
       "      <th>shortness_of_breath</th>\n",
       "      <th>head_ache</th>\n",
       "      <th>corona_result</th>\n",
       "      <th>age_60_and_above</th>\n",
       "      <th>gender</th>\n",
       "      <th>test_indication</th>\n",
       "    </tr>\n",
       "  </thead>\n",
       "  <tbody>\n",
       "    <tr>\n",
       "      <th>count</th>\n",
       "      <td>278848</td>\n",
       "      <td>278848</td>\n",
       "      <td>278848</td>\n",
       "      <td>278848</td>\n",
       "      <td>278848</td>\n",
       "      <td>278848</td>\n",
       "      <td>278848</td>\n",
       "      <td>278848</td>\n",
       "      <td>278848</td>\n",
       "      <td>278848</td>\n",
       "    </tr>\n",
       "    <tr>\n",
       "      <th>unique</th>\n",
       "      <td>51</td>\n",
       "      <td>5</td>\n",
       "      <td>5</td>\n",
       "      <td>5</td>\n",
       "      <td>5</td>\n",
       "      <td>5</td>\n",
       "      <td>3</td>\n",
       "      <td>3</td>\n",
       "      <td>3</td>\n",
       "      <td>3</td>\n",
       "    </tr>\n",
       "    <tr>\n",
       "      <th>top</th>\n",
       "      <td>2020-04-20</td>\n",
       "      <td>0</td>\n",
       "      <td>0</td>\n",
       "      <td>0</td>\n",
       "      <td>0</td>\n",
       "      <td>0</td>\n",
       "      <td>negative</td>\n",
       "      <td>None</td>\n",
       "      <td>female</td>\n",
       "      <td>Other</td>\n",
       "    </tr>\n",
       "    <tr>\n",
       "      <th>freq</th>\n",
       "      <td>10921</td>\n",
       "      <td>121649</td>\n",
       "      <td>133942</td>\n",
       "      <td>260664</td>\n",
       "      <td>261079</td>\n",
       "      <td>260079</td>\n",
       "      <td>260227</td>\n",
       "      <td>127320</td>\n",
       "      <td>130158</td>\n",
       "      <td>242741</td>\n",
       "    </tr>\n",
       "  </tbody>\n",
       "</table>\n",
       "</div>"
      ],
      "text/plain": [
       "         test_date   cough   fever  sore_throat  shortness_of_breath  \\\n",
       "count       278848  278848  278848       278848               278848   \n",
       "unique          51       5       5            5                    5   \n",
       "top     2020-04-20       0       0            0                    0   \n",
       "freq         10921  121649  133942       260664               261079   \n",
       "\n",
       "        head_ache corona_result age_60_and_above  gender test_indication  \n",
       "count      278848        278848           278848  278848          278848  \n",
       "unique          5             3                3       3               3  \n",
       "top             0      negative             None  female           Other  \n",
       "freq       260079        260227           127320  130158          242741  "
      ]
     },
     "execution_count": 7,
     "metadata": {},
     "output_type": "execute_result"
    }
   ],
   "source": [
    "covid.describe()"
   ]
  },
  {
   "cell_type": "code",
   "execution_count": 8,
   "metadata": {
    "execution": {
     "iopub.execute_input": "2021-10-11T20:58:05.927751Z",
     "iopub.status.busy": "2021-10-11T20:58:05.926847Z",
     "iopub.status.idle": "2021-10-11T20:58:05.934209Z",
     "shell.execute_reply": "2021-10-11T20:58:05.933322Z",
     "shell.execute_reply.started": "2021-10-11T20:58:05.927709Z"
    }
   },
   "outputs": [
    {
     "data": {
      "text/plain": [
       "(278848, 10)"
      ]
     },
     "execution_count": 8,
     "metadata": {},
     "output_type": "execute_result"
    }
   ],
   "source": [
    "covid.shape"
   ]
  },
  {
   "cell_type": "markdown",
   "metadata": {},
   "source": [
    "### Checking if there are any null values."
   ]
  },
  {
   "cell_type": "code",
   "execution_count": 9,
   "metadata": {
    "execution": {
     "iopub.execute_input": "2021-10-11T20:58:09.584544Z",
     "iopub.status.busy": "2021-10-11T20:58:09.584134Z",
     "iopub.status.idle": "2021-10-11T20:58:09.899374Z",
     "shell.execute_reply": "2021-10-11T20:58:09.898408Z",
     "shell.execute_reply.started": "2021-10-11T20:58:09.584484Z"
    }
   },
   "outputs": [
    {
     "data": {
      "text/plain": [
       "test_date              0\n",
       "cough                  0\n",
       "fever                  0\n",
       "sore_throat            0\n",
       "shortness_of_breath    0\n",
       "head_ache              0\n",
       "corona_result          0\n",
       "age_60_and_above       0\n",
       "gender                 0\n",
       "test_indication        0\n",
       "dtype: int64"
      ]
     },
     "execution_count": 9,
     "metadata": {},
     "output_type": "execute_result"
    }
   ],
   "source": [
    "covid.isnull().sum()"
   ]
  },
  {
   "cell_type": "markdown",
   "metadata": {},
   "source": [
    "Check for any duplicated rows."
   ]
  },
  {
   "cell_type": "code",
   "execution_count": 10,
   "metadata": {
    "execution": {
     "iopub.execute_input": "2021-10-11T20:58:13.014241Z",
     "iopub.status.busy": "2021-10-11T20:58:13.013882Z",
     "iopub.status.idle": "2021-10-11T20:58:13.295074Z",
     "shell.execute_reply": "2021-10-11T20:58:13.294104Z",
     "shell.execute_reply.started": "2021-10-11T20:58:13.014209Z"
    }
   },
   "outputs": [
    {
     "data": {
      "text/plain": [
       "272068"
      ]
     },
     "execution_count": 10,
     "metadata": {},
     "output_type": "execute_result"
    }
   ],
   "source": [
    "covid.duplicated().sum()"
   ]
  },
  {
   "cell_type": "markdown",
   "metadata": {},
   "source": [
    "Here we can see a majority of the records appear as duplicates.\n",
    "\n",
    "But we have to keep in mind that these records all represent individual patients.\n",
    "\n",
    "Therefore, in this case, we shall not drop any records."
   ]
  },
  {
   "cell_type": "code",
   "execution_count": 11,
   "metadata": {
    "execution": {
     "iopub.execute_input": "2021-10-11T20:58:16.363238Z",
     "iopub.status.busy": "2021-10-11T20:58:16.362487Z",
     "iopub.status.idle": "2021-10-11T20:58:16.370004Z",
     "shell.execute_reply": "2021-10-11T20:58:16.369406Z",
     "shell.execute_reply.started": "2021-10-11T20:58:16.363195Z"
    }
   },
   "outputs": [
    {
     "data": {
      "text/plain": [
       "test_date              object\n",
       "cough                  object\n",
       "fever                  object\n",
       "sore_throat            object\n",
       "shortness_of_breath    object\n",
       "head_ache              object\n",
       "corona_result          object\n",
       "age_60_and_above       object\n",
       "gender                 object\n",
       "test_indication        object\n",
       "dtype: object"
      ]
     },
     "execution_count": 11,
     "metadata": {},
     "output_type": "execute_result"
    }
   ],
   "source": [
    "# check the column datatypes of the dataset\n",
    "# for model development, int datatype is best suited. \n",
    "# We will effect this once the data wrangling is complete just before model development.\n",
    "\n",
    "covid.dtypes"
   ]
  },
  {
   "cell_type": "markdown",
   "metadata": {},
   "source": [
    "**Next we explore the columns and see if they hold useful information for the model to process.**\n",
    "\n",
    "If not, the 'useless' data will be dropped"
   ]
  },
  {
   "cell_type": "code",
   "execution_count": 12,
   "metadata": {
    "execution": {
     "iopub.execute_input": "2021-10-11T20:58:19.678730Z",
     "iopub.status.busy": "2021-10-11T20:58:19.678363Z",
     "iopub.status.idle": "2021-10-11T20:58:19.719782Z",
     "shell.execute_reply": "2021-10-11T20:58:19.718835Z",
     "shell.execute_reply.started": "2021-10-11T20:58:19.678698Z"
    }
   },
   "outputs": [
    {
     "data": {
      "text/plain": [
       "female    130158\n",
       "male      129127\n",
       "None       19563\n",
       "Name: gender, dtype: int64"
      ]
     },
     "execution_count": 12,
     "metadata": {},
     "output_type": "execute_result"
    }
   ],
   "source": [
    "# check gender column\n",
    "\n",
    "covid['gender'].value_counts()"
   ]
  },
  {
   "cell_type": "code",
   "execution_count": 74,
   "metadata": {
    "execution": {
     "iopub.execute_input": "2021-10-11T20:58:21.919491Z",
     "iopub.status.busy": "2021-10-11T20:58:21.919134Z",
     "iopub.status.idle": "2021-10-11T20:58:22.053235Z",
     "shell.execute_reply": "2021-10-11T20:58:22.052358Z",
     "shell.execute_reply.started": "2021-10-11T20:58:21.919453Z"
    }
   },
   "outputs": [
    {
     "data": {
      "text/plain": [
       "0    128541\n",
       "1    127370\n",
       "Name: gender, dtype: int64"
      ]
     },
     "execution_count": 74,
     "metadata": {},
     "output_type": "execute_result"
    }
   ],
   "source": [
    "# drop data with gender as none.\n",
    "\n",
    "covid.drop(covid.index[covid['gender'] == 'None'], inplace = True)\n",
    "covid['gender'].value_counts()"
   ]
  },
  {
   "cell_type": "code",
   "execution_count": 75,
   "metadata": {
    "execution": {
     "iopub.execute_input": "2021-10-11T20:58:24.718472Z",
     "iopub.status.busy": "2021-10-11T20:58:24.718118Z",
     "iopub.status.idle": "2021-10-11T20:58:25.286831Z",
     "shell.execute_reply": "2021-10-11T20:58:25.285867Z",
     "shell.execute_reply.started": "2021-10-11T20:58:24.718437Z"
    }
   },
   "outputs": [
    {
     "data": {
      "image/png": "[encoded data removed]",
      "text/plain": [
       "<Figure size 576x432 with 1 Axes>"
      ]
     },
     "metadata": {
      "needs_background": "light"
     },
     "output_type": "display_data"
    }
   ],
   "source": [
    "# figure to display gender column\n",
    "\n",
    "fig, ax = plt.subplots(figsize=(8,6))\n",
    "sns.countplot(covid[\"gender\"]);"
   ]
  },
  {
   "cell_type": "code",
   "execution_count": 15,
   "metadata": {
    "execution": {
     "iopub.execute_input": "2021-10-11T20:58:28.088555Z",
     "iopub.status.busy": "2021-10-11T20:58:28.088222Z",
     "iopub.status.idle": "2021-10-11T20:58:28.355276Z",
     "shell.execute_reply": "2021-10-11T20:58:28.354651Z",
     "shell.execute_reply.started": "2021-10-11T20:58:28.088524Z"
    }
   },
   "outputs": [
    {
     "data": {
      "image/png": "[encoded data removed]",
      "text/plain": [
       "<Figure size 648x648 with 1 Axes>"
      ]
     },
     "metadata": {},
     "output_type": "display_data"
    }
   ],
   "source": [
    "# pie chart to display gender column\n",
    "\n",
    "labels = ['Female', 'Male']\n",
    "size = covid['gender'].value_counts()\n",
    "colors = ['lightgreen', 'orange']\n",
    "explode = [0, 0.1]\n",
    "\n",
    "plt.rcParams['figure.figsize'] = (9, 9)\n",
    "plt.pie(size, colors = colors, explode = explode, labels = labels, shadow = True, autopct = '%.2f%%')\n",
    "plt.title('Gender', fontsize = 20)\n",
    "plt.axis('off')\n",
    "plt.legend()\n",
    "plt.show()"
   ]
  },
  {
   "cell_type": "code",
   "execution_count": 16,
   "metadata": {
    "execution": {
     "iopub.execute_input": "2021-10-11T20:58:37.394842Z",
     "iopub.status.busy": "2021-10-11T20:58:37.394004Z",
     "iopub.status.idle": "2021-10-11T20:58:37.435759Z",
     "shell.execute_reply": "2021-10-11T20:58:37.434648Z",
     "shell.execute_reply.started": "2021-10-11T20:58:37.394774Z"
    }
   },
   "outputs": [
    {
     "data": {
      "text/plain": [
       "negative    242351\n",
       "positive     13560\n",
       "other         3374\n",
       "Name: corona_result, dtype: int64"
      ]
     },
     "execution_count": 16,
     "metadata": {},
     "output_type": "execute_result"
    }
   ],
   "source": [
    "# check corona_result column\n",
    "\n",
    "covid['corona_result'].value_counts()"
   ]
  },
  {
   "cell_type": "code",
   "execution_count": 17,
   "metadata": {
    "execution": {
     "iopub.execute_input": "2021-10-11T20:58:40.823335Z",
     "iopub.status.busy": "2021-10-11T20:58:40.822673Z",
     "iopub.status.idle": "2021-10-11T20:58:40.948769Z",
     "shell.execute_reply": "2021-10-11T20:58:40.947860Z",
     "shell.execute_reply.started": "2021-10-11T20:58:40.823287Z"
    }
   },
   "outputs": [
    {
     "data": {
      "text/plain": [
       "negative    242351\n",
       "positive     13560\n",
       "Name: corona_result, dtype: int64"
      ]
     },
     "execution_count": 17,
     "metadata": {},
     "output_type": "execute_result"
    }
   ],
   "source": [
    "# drop data with corona_result as other.\n",
    "\n",
    "covid.drop(covid.index[covid['corona_result'] == 'other'], inplace = True)\n",
    "covid['corona_result'].value_counts()"
   ]
  },
  {
   "cell_type": "code",
   "execution_count": 18,
   "metadata": {
    "execution": {
     "iopub.execute_input": "2021-10-11T20:58:46.574970Z",
     "iopub.status.busy": "2021-10-11T20:58:46.574434Z",
     "iopub.status.idle": "2021-10-11T20:58:47.080803Z",
     "shell.execute_reply": "2021-10-11T20:58:47.080127Z",
     "shell.execute_reply.started": "2021-10-11T20:58:46.574934Z"
    }
   },
   "outputs": [
    {
     "data": {
      "image/png": "[encoded data removed]",
      "text/plain": [
       "<Figure size 576x432 with 1 Axes>"
      ]
     },
     "metadata": {
      "needs_background": "light"
     },
     "output_type": "display_data"
    }
   ],
   "source": [
    "# figures to display corona_result column\n",
    "\n",
    "fig, ax = plt.subplots(figsize=(8,6))\n",
    "sns.countplot(covid[\"corona_result\"]);"
   ]
  },
  {
   "cell_type": "code",
   "execution_count": 19,
   "metadata": {
    "execution": {
     "iopub.execute_input": "2021-10-11T20:58:51.321622Z",
     "iopub.status.busy": "2021-10-11T20:58:51.320902Z",
     "iopub.status.idle": "2021-10-11T20:58:51.652714Z",
     "shell.execute_reply": "2021-10-11T20:58:51.651667Z",
     "shell.execute_reply.started": "2021-10-11T20:58:51.321551Z"
    }
   },
   "outputs": [
    {
     "data": {
      "image/png": "[encoded data removed]",
      "text/plain": [
       "<Figure size 648x648 with 1 Axes>"
      ]
     },
     "metadata": {},
     "output_type": "display_data"
    }
   ],
   "source": [
    "# pie chart for corona_result column\n",
    "\n",
    "labels = ['Negative', 'Positive']\n",
    "size = covid['corona_result'].value_counts()\n",
    "colors = ['lightgreen', 'orange']\n",
    "explode = [0, 0.3]\n",
    "\n",
    "plt.rcParams['figure.figsize'] = (9, 9)\n",
    "plt.pie(size, colors = colors, explode = explode, labels = labels, shadow = True, autopct = '%.2f%%')\n",
    "plt.title('Corona Result', fontsize = 20)\n",
    "plt.axis('off')\n",
    "plt.legend()\n",
    "plt.show()"
   ]
  },
  {
   "cell_type": "code",
   "execution_count": 20,
   "metadata": {
    "execution": {
     "iopub.execute_input": "2021-10-11T20:58:55.916947Z",
     "iopub.status.busy": "2021-10-11T20:58:55.916625Z",
     "iopub.status.idle": "2021-10-11T20:58:55.955274Z",
     "shell.execute_reply": "2021-10-11T20:58:55.954183Z",
     "shell.execute_reply.started": "2021-10-11T20:58:55.916917Z"
    }
   },
   "outputs": [
    {
     "data": {
      "text/plain": [
       "0       111626\n",
       "0       104990\n",
       "1        23265\n",
       "1        15789\n",
       "None       241\n",
       "Name: cough, dtype: int64"
      ]
     },
     "execution_count": 20,
     "metadata": {},
     "output_type": "execute_result"
    }
   ],
   "source": [
    "#check cough column\n",
    "\n",
    "covid['cough'].value_counts()"
   ]
  },
  {
   "cell_type": "markdown",
   "metadata": {},
   "source": [
    "As we can  see, some records are filled in as 'None'. \n",
    "\n",
    "Let us assume that this meant that the patients had no cough symptoms, thus change the attribute from None to 0."
   ]
  },
  {
   "cell_type": "code",
   "execution_count": 21,
   "metadata": {
    "execution": {
     "iopub.execute_input": "2021-10-11T20:58:59.694581Z",
     "iopub.status.busy": "2021-10-11T20:58:59.694203Z",
     "iopub.status.idle": "2021-10-11T20:58:59.756880Z",
     "shell.execute_reply": "2021-10-11T20:58:59.755907Z",
     "shell.execute_reply.started": "2021-10-11T20:58:59.694537Z"
    }
   },
   "outputs": [
    {
     "data": {
      "text/plain": [
       "0.0    105231\n",
       "1.0     23265\n",
       "Name: cough, dtype: int64"
      ]
     },
     "execution_count": 21,
     "metadata": {},
     "output_type": "execute_result"
    }
   ],
   "source": [
    "#  Change none to 0\n",
    "\n",
    "covid['cough'] = covid['cough'].map({'0': 0, '1': 1, 'None': 0})\n",
    "\n",
    "# display changes\n",
    "covid['cough'].value_counts()"
   ]
  },
  {
   "cell_type": "code",
   "execution_count": 22,
   "metadata": {
    "execution": {
     "iopub.execute_input": "2021-10-11T20:59:02.433715Z",
     "iopub.status.busy": "2021-10-11T20:59:02.433344Z",
     "iopub.status.idle": "2021-10-11T20:59:02.474400Z",
     "shell.execute_reply": "2021-10-11T20:59:02.473267Z",
     "shell.execute_reply.started": "2021-10-11T20:59:02.433678Z"
    }
   },
   "outputs": [
    {
     "data": {
      "text/plain": [
       "0       119523\n",
       "0       116291\n",
       "1        11963\n",
       "1         7892\n",
       "None       242\n",
       "Name: fever, dtype: int64"
      ]
     },
     "execution_count": 22,
     "metadata": {},
     "output_type": "execute_result"
    }
   ],
   "source": [
    "#check fever column\n",
    "\n",
    "covid['fever'].value_counts()"
   ]
  },
  {
   "cell_type": "markdown",
   "metadata": {},
   "source": [
    "In the fever column, we see the same case as in the cough column. Therefore, we shall follow the same steps as before."
   ]
  },
  {
   "cell_type": "code",
   "execution_count": 23,
   "metadata": {
    "execution": {
     "iopub.execute_input": "2021-10-11T20:59:06.054912Z",
     "iopub.status.busy": "2021-10-11T20:59:06.054554Z",
     "iopub.status.idle": "2021-10-11T20:59:06.114333Z",
     "shell.execute_reply": "2021-10-11T20:59:06.113560Z",
     "shell.execute_reply.started": "2021-10-11T20:59:06.054882Z"
    }
   },
   "outputs": [
    {
     "data": {
      "text/plain": [
       "0.0    116533\n",
       "1.0     11963\n",
       "Name: fever, dtype: int64"
      ]
     },
     "execution_count": 23,
     "metadata": {},
     "output_type": "execute_result"
    }
   ],
   "source": [
    "#  Change none to 0\n",
    "\n",
    "covid['fever'] = covid['fever'].map({'0': 0, '1': 1, 'None': 0})\n",
    "\n",
    "# display changes\n",
    "covid['fever'].value_counts()"
   ]
  },
  {
   "cell_type": "code",
   "execution_count": 26,
   "metadata": {
    "execution": {
     "iopub.execute_input": "2021-10-11T20:59:08.995295Z",
     "iopub.status.busy": "2021-10-11T20:59:08.994754Z",
     "iopub.status.idle": "2021-10-11T20:59:09.034701Z",
     "shell.execute_reply": "2021-10-11T20:59:09.033572Z",
     "shell.execute_reply.started": "2021-10-11T20:59:08.995262Z"
    }
   },
   "outputs": [
    {
     "data": {
      "text/plain": [
       "0    251559\n",
       "0      2854\n",
       "1      1455\n",
       "1        43\n",
       "Name: sore_throat, dtype: int64"
      ]
     },
     "execution_count": 26,
     "metadata": {},
     "output_type": "execute_result"
    }
   ],
   "source": [
    "# check sore_throat column\n",
    "\n",
    "covid['sore_throat'].value_counts()"
   ]
  },
  {
   "cell_type": "code",
   "execution_count": 25,
   "metadata": {
    "execution": {
     "iopub.execute_input": "2021-10-11T20:59:11.358824Z",
     "iopub.status.busy": "2021-10-11T20:59:11.358395Z",
     "iopub.status.idle": "2021-10-11T20:59:11.399358Z",
     "shell.execute_reply": "2021-10-11T20:59:11.398235Z",
     "shell.execute_reply.started": "2021-10-11T20:59:11.358781Z"
    }
   },
   "outputs": [
    {
     "data": {
      "text/plain": [
       "0    251968\n",
       "0      2863\n",
       "1      1046\n",
       "1        34\n",
       "Name: shortness_of_breath, dtype: int64"
      ]
     },
     "execution_count": 25,
     "metadata": {},
     "output_type": "execute_result"
    }
   ],
   "source": [
    "# check shortness_of_breath column\n",
    "\n",
    "covid['shortness_of_breath'].value_counts()"
   ]
  },
  {
   "cell_type": "code",
   "execution_count": 27,
   "metadata": {
    "execution": {
     "iopub.execute_input": "2021-10-11T20:59:13.828820Z",
     "iopub.status.busy": "2021-10-11T20:59:13.828420Z",
     "iopub.status.idle": "2021-10-11T20:59:13.867685Z",
     "shell.execute_reply": "2021-10-11T20:59:13.866783Z",
     "shell.execute_reply.started": "2021-10-11T20:59:13.828783Z"
    }
   },
   "outputs": [
    {
     "data": {
      "text/plain": [
       "0    250974\n",
       "0      2829\n",
       "1      2040\n",
       "1        68\n",
       "Name: head_ache, dtype: int64"
      ]
     },
     "execution_count": 27,
     "metadata": {},
     "output_type": "execute_result"
    }
   ],
   "source": [
    "# check headache column\n",
    "\n",
    "covid['head_ache'].value_counts()"
   ]
  },
  {
   "cell_type": "code",
   "execution_count": 28,
   "metadata": {
    "execution": {
     "iopub.execute_input": "2021-10-11T20:59:16.518782Z",
     "iopub.status.busy": "2021-10-11T20:59:16.518063Z",
     "iopub.status.idle": "2021-10-11T20:59:16.557068Z",
     "shell.execute_reply": "2021-10-11T20:59:16.556268Z",
     "shell.execute_reply.started": "2021-10-11T20:59:16.518733Z"
    }
   },
   "outputs": [
    {
     "data": {
      "text/plain": [
       "None    119374\n",
       "No      112788\n",
       "Yes      23749\n",
       "Name: age_60_and_above, dtype: int64"
      ]
     },
     "execution_count": 28,
     "metadata": {},
     "output_type": "execute_result"
    }
   ],
   "source": [
    "# check age_60_and_above column\n",
    "\n",
    "covid['age_60_and_above'].value_counts()"
   ]
  },
  {
   "cell_type": "code",
   "execution_count": 29,
   "metadata": {
    "execution": {
     "iopub.execute_input": "2021-10-11T20:59:19.364470Z",
     "iopub.status.busy": "2021-10-11T20:59:19.364120Z",
     "iopub.status.idle": "2021-10-11T20:59:19.864422Z",
     "shell.execute_reply": "2021-10-11T20:59:19.863392Z",
     "shell.execute_reply.started": "2021-10-11T20:59:19.364439Z"
    }
   },
   "outputs": [
    {
     "data": {
      "image/png": "[encoded data removed]",
      "text/plain": [
       "<Figure size 576x432 with 1 Axes>"
      ]
     },
     "metadata": {
      "needs_background": "light"
     },
     "output_type": "display_data"
    }
   ],
   "source": [
    "# figure to display age_60_and_above column\n",
    "\n",
    "fig, ax = plt.subplots(figsize=(8,6))\n",
    "sns.countplot(covid[\"age_60_and_above\"]);"
   ]
  },
  {
   "cell_type": "code",
   "execution_count": 30,
   "metadata": {
    "execution": {
     "iopub.execute_input": "2021-10-11T20:59:23.392715Z",
     "iopub.status.busy": "2021-10-11T20:59:23.392321Z",
     "iopub.status.idle": "2021-10-11T20:59:23.648680Z",
     "shell.execute_reply": "2021-10-11T20:59:23.647779Z",
     "shell.execute_reply.started": "2021-10-11T20:59:23.392673Z"
    }
   },
   "outputs": [
    {
     "data": {
      "image/png": "[encoded data removed]",
      "text/plain": [
       "<Figure size 648x648 with 1 Axes>"
      ]
     },
     "metadata": {},
     "output_type": "display_data"
    }
   ],
   "source": [
    "# pie chart for age indication\n",
    "\n",
    "labels = ['None', 'No', 'Yes']\n",
    "size = covid['age_60_and_above'].value_counts()\n",
    "colors = ['lightgreen', 'orange', 'lightblue']\n",
    "explode = [0, 0, 0.3]\n",
    "\n",
    "plt.rcParams['figure.figsize'] = (9, 9)\n",
    "plt.pie(size, colors = colors, explode = explode, labels = labels, shadow = True, autopct = '%.2f%%')\n",
    "plt.title('age_60_and_above', fontsize = 20)\n",
    "plt.axis('off')\n",
    "plt.legend()\n",
    "plt.show()"
   ]
  },
  {
   "cell_type": "code",
   "execution_count": 31,
   "metadata": {
    "execution": {
     "iopub.execute_input": "2021-10-11T20:59:30.517319Z",
     "iopub.status.busy": "2021-10-11T20:59:30.516999Z",
     "iopub.status.idle": "2021-10-11T20:59:30.555934Z",
     "shell.execute_reply": "2021-10-11T20:59:30.555109Z",
     "shell.execute_reply.started": "2021-10-11T20:59:30.517289Z"
    }
   },
   "outputs": [
    {
     "data": {
      "text/plain": [
       "Other                     222998\n",
       "Abroad                     23312\n",
       "Contact with confirmed      9601\n",
       "Name: test_indication, dtype: int64"
      ]
     },
     "execution_count": 31,
     "metadata": {},
     "output_type": "execute_result"
    }
   ],
   "source": [
    "# check test indication column\n",
    "covid['test_indication'].value_counts()"
   ]
  },
  {
   "cell_type": "code",
   "execution_count": 32,
   "metadata": {
    "execution": {
     "iopub.execute_input": "2021-10-11T20:59:33.249305Z",
     "iopub.status.busy": "2021-10-11T20:59:33.248958Z",
     "iopub.status.idle": "2021-10-11T20:59:33.316428Z",
     "shell.execute_reply": "2021-10-11T20:59:33.315372Z",
     "shell.execute_reply.started": "2021-10-11T20:59:33.249273Z"
    }
   },
   "outputs": [],
   "source": [
    "#  Change other and abroad to 0, Contact with confirmed to 1\n",
    "covid['test_indication'] = covid['test_indication'].map({'Other': 0, 'Abroad': 0, 'Contact with confirmed': 1})"
   ]
  },
  {
   "cell_type": "markdown",
   "metadata": {},
   "source": [
    "# Processing data for model development"
   ]
  },
  {
   "cell_type": "markdown",
   "metadata": {},
   "source": [
    "Make gender column numerical\n",
    "\n",
    "male : 1 , female : 0"
   ]
  },
  {
   "cell_type": "code",
   "execution_count": 33,
   "metadata": {
    "execution": {
     "iopub.execute_input": "2021-10-11T20:59:39.918105Z",
     "iopub.status.busy": "2021-10-11T20:59:39.917730Z",
     "iopub.status.idle": "2021-10-11T20:59:39.973589Z",
     "shell.execute_reply": "2021-10-11T20:59:39.972741Z",
     "shell.execute_reply.started": "2021-10-11T20:59:39.918069Z"
    }
   },
   "outputs": [
    {
     "data": {
      "text/plain": [
       "0    128541\n",
       "1    127370\n",
       "Name: gender, dtype: int64"
      ]
     },
     "execution_count": 33,
     "metadata": {},
     "output_type": "execute_result"
    }
   ],
   "source": [
    "covid['gender'] = covid['gender'].map({'male': 1, 'female': 0})\n",
    "\n",
    "covid['gender'].value_counts()"
   ]
  },
  {
   "cell_type": "code",
   "execution_count": 34,
   "metadata": {
    "execution": {
     "iopub.execute_input": "2021-10-11T20:59:42.684178Z",
     "iopub.status.busy": "2021-10-11T20:59:42.683830Z",
     "iopub.status.idle": "2021-10-11T20:59:42.734553Z",
     "shell.execute_reply": "2021-10-11T20:59:42.733716Z",
     "shell.execute_reply.started": "2021-10-11T20:59:42.684145Z"
    }
   },
   "outputs": [
    {
     "data": {
      "text/plain": [
       "0    242351\n",
       "1     13560\n",
       "Name: corona_result, dtype: int64"
      ]
     },
     "execution_count": 34,
     "metadata": {},
     "output_type": "execute_result"
    }
   ],
   "source": [
    "#make corona_result column numerical\n",
    "# positive : 1 , negative : 0\n",
    "covid['corona_result'] = covid['corona_result'].map({'positive': 1, 'negative': 0})\n",
    "\n",
    "covid['corona_result'].value_counts()"
   ]
  },
  {
   "cell_type": "code",
   "execution_count": 35,
   "metadata": {
    "execution": {
     "iopub.execute_input": "2021-10-11T20:59:45.159850Z",
     "iopub.status.busy": "2021-10-11T20:59:45.159487Z",
     "iopub.status.idle": "2021-10-11T20:59:45.168381Z",
     "shell.execute_reply": "2021-10-11T20:59:45.167711Z",
     "shell.execute_reply.started": "2021-10-11T20:59:45.159818Z"
    }
   },
   "outputs": [
    {
     "data": {
      "text/plain": [
       "test_date               object\n",
       "cough                  float64\n",
       "fever                  float64\n",
       "sore_throat             object\n",
       "shortness_of_breath     object\n",
       "head_ache               object\n",
       "corona_result            int64\n",
       "age_60_and_above        object\n",
       "gender                   int64\n",
       "test_indication          int64\n",
       "dtype: object"
      ]
     },
     "execution_count": 35,
     "metadata": {},
     "output_type": "execute_result"
    }
   ],
   "source": [
    "# check dataset datatypes\n",
    "\n",
    "covid.dtypes"
   ]
  },
  {
   "cell_type": "code",
   "execution_count": 52,
   "metadata": {},
   "outputs": [
    {
     "data": {
      "text/plain": [
       "0         0.181056\n",
       "1         0.181056\n",
       "2         0.181056\n",
       "3         0.181056\n",
       "4         0.181056\n",
       "            ...   \n",
       "265116    1.000000\n",
       "265117    1.000000\n",
       "265118    1.000000\n",
       "265119    1.000000\n",
       "265120    1.000000\n",
       "Name: cough, Length: 255911, dtype: float64"
      ]
     },
     "execution_count": 52,
     "metadata": {},
     "output_type": "execute_result"
    }
   ],
   "source": [
    "## Replacing NAN values with the respective column's mean value \n",
    "mean_value=covid['cough'].mean()\n",
    "covid['cough'].fillna(value=mean_value,inplace=True)\n",
    "covid['cough']"
   ]
  },
  {
   "cell_type": "code",
   "execution_count": 53,
   "metadata": {},
   "outputs": [
    {
     "data": {
      "text/plain": [
       "0         0.0931\n",
       "1         0.0931\n",
       "2         0.0931\n",
       "3         0.0931\n",
       "4         0.0931\n",
       "           ...  \n",
       "265116    1.0000\n",
       "265117    1.0000\n",
       "265118    0.0000\n",
       "265119    0.0000\n",
       "265120    0.0000\n",
       "Name: fever, Length: 255911, dtype: float64"
      ]
     },
     "execution_count": 53,
     "metadata": {},
     "output_type": "execute_result"
    }
   ],
   "source": [
    "mean_value=covid['fever'].mean()\n",
    "covid['fever'].fillna(value=mean_value,inplace=True)\n",
    "covid['fever']\n"
   ]
  },
  {
   "cell_type": "code",
   "execution_count": 54,
   "metadata": {
    "execution": {
     "iopub.execute_input": "2021-10-11T20:59:54.712562Z",
     "iopub.status.busy": "2021-10-11T20:59:54.710186Z",
     "iopub.status.idle": "2021-10-11T20:59:54.835549Z",
     "shell.execute_reply": "2021-10-11T20:59:54.834723Z",
     "shell.execute_reply.started": "2021-10-11T20:59:54.712516Z"
    }
   },
   "outputs": [],
   "source": [
    "# change columns that will be used for training the model to int datatype\n",
    "covid = covid.astype({\"cough\": int, \"fever\": int, \"sore_throat\": int, \"shortness_of_breath\": int, \"head_ache\": int, \"test_indication\": int})"
   ]
  },
  {
   "cell_type": "code",
   "execution_count": 55,
   "metadata": {
    "execution": {
     "iopub.execute_input": "2021-10-11T20:59:57.529788Z",
     "iopub.status.busy": "2021-10-11T20:59:57.529408Z",
     "iopub.status.idle": "2021-10-11T20:59:57.538365Z",
     "shell.execute_reply": "2021-10-11T20:59:57.537535Z",
     "shell.execute_reply.started": "2021-10-11T20:59:57.529753Z"
    }
   },
   "outputs": [
    {
     "data": {
      "text/plain": [
       "test_date              object\n",
       "cough                   int32\n",
       "fever                   int32\n",
       "sore_throat             int32\n",
       "shortness_of_breath     int32\n",
       "head_ache               int32\n",
       "corona_result           int64\n",
       "age_60_and_above       object\n",
       "gender                  int64\n",
       "test_indication         int32\n",
       "dtype: object"
      ]
     },
     "execution_count": 55,
     "metadata": {},
     "output_type": "execute_result"
    }
   ],
   "source": [
    "# check dataset datatypes\n",
    "\n",
    "covid.dtypes"
   ]
  },
  {
   "cell_type": "code",
   "execution_count": 56,
   "metadata": {
    "execution": {
     "iopub.execute_input": "2021-10-11T21:00:02.694838Z",
     "iopub.status.busy": "2021-10-11T21:00:02.693776Z",
     "iopub.status.idle": "2021-10-11T21:00:02.709500Z",
     "shell.execute_reply": "2021-10-11T21:00:02.708463Z",
     "shell.execute_reply.started": "2021-10-11T21:00:02.694784Z"
    }
   },
   "outputs": [
    {
     "data": {
      "text/html": [
       "<div>\n",
       "<style scoped>\n",
       "    .dataframe tbody tr th:only-of-type {\n",
       "        vertical-align: middle;\n",
       "    }\n",
       "\n",
       "    .dataframe tbody tr th {\n",
       "        vertical-align: top;\n",
       "    }\n",
       "\n",
       "    .dataframe thead th {\n",
       "        text-align: right;\n",
       "    }\n",
       "</style>\n",
       "<table border=\"1\" class=\"dataframe\">\n",
       "  <thead>\n",
       "    <tr style=\"text-align: right;\">\n",
       "      <th></th>\n",
       "      <th>test_date</th>\n",
       "      <th>cough</th>\n",
       "      <th>fever</th>\n",
       "      <th>sore_throat</th>\n",
       "      <th>shortness_of_breath</th>\n",
       "      <th>head_ache</th>\n",
       "      <th>corona_result</th>\n",
       "      <th>age_60_and_above</th>\n",
       "      <th>gender</th>\n",
       "      <th>test_indication</th>\n",
       "    </tr>\n",
       "  </thead>\n",
       "  <tbody>\n",
       "    <tr>\n",
       "      <th>0</th>\n",
       "      <td>2020-04-30</td>\n",
       "      <td>0</td>\n",
       "      <td>0</td>\n",
       "      <td>0</td>\n",
       "      <td>0</td>\n",
       "      <td>0</td>\n",
       "      <td>0</td>\n",
       "      <td>None</td>\n",
       "      <td>0</td>\n",
       "      <td>0</td>\n",
       "    </tr>\n",
       "    <tr>\n",
       "      <th>1</th>\n",
       "      <td>2020-04-30</td>\n",
       "      <td>0</td>\n",
       "      <td>0</td>\n",
       "      <td>0</td>\n",
       "      <td>0</td>\n",
       "      <td>0</td>\n",
       "      <td>0</td>\n",
       "      <td>None</td>\n",
       "      <td>0</td>\n",
       "      <td>0</td>\n",
       "    </tr>\n",
       "    <tr>\n",
       "      <th>2</th>\n",
       "      <td>2020-04-30</td>\n",
       "      <td>0</td>\n",
       "      <td>0</td>\n",
       "      <td>0</td>\n",
       "      <td>0</td>\n",
       "      <td>0</td>\n",
       "      <td>0</td>\n",
       "      <td>None</td>\n",
       "      <td>1</td>\n",
       "      <td>0</td>\n",
       "    </tr>\n",
       "    <tr>\n",
       "      <th>3</th>\n",
       "      <td>2020-04-30</td>\n",
       "      <td>0</td>\n",
       "      <td>0</td>\n",
       "      <td>0</td>\n",
       "      <td>0</td>\n",
       "      <td>0</td>\n",
       "      <td>0</td>\n",
       "      <td>None</td>\n",
       "      <td>0</td>\n",
       "      <td>0</td>\n",
       "    </tr>\n",
       "    <tr>\n",
       "      <th>4</th>\n",
       "      <td>2020-04-30</td>\n",
       "      <td>0</td>\n",
       "      <td>0</td>\n",
       "      <td>0</td>\n",
       "      <td>0</td>\n",
       "      <td>0</td>\n",
       "      <td>0</td>\n",
       "      <td>None</td>\n",
       "      <td>1</td>\n",
       "      <td>0</td>\n",
       "    </tr>\n",
       "  </tbody>\n",
       "</table>\n",
       "</div>"
      ],
      "text/plain": [
       "    test_date  cough  fever  sore_throat  shortness_of_breath  head_ache  \\\n",
       "0  2020-04-30      0      0            0                    0          0   \n",
       "1  2020-04-30      0      0            0                    0          0   \n",
       "2  2020-04-30      0      0            0                    0          0   \n",
       "3  2020-04-30      0      0            0                    0          0   \n",
       "4  2020-04-30      0      0            0                    0          0   \n",
       "\n",
       "   corona_result age_60_and_above  gender  test_indication  \n",
       "0              0             None       0                0  \n",
       "1              0             None       0                0  \n",
       "2              0             None       1                0  \n",
       "3              0             None       0                0  \n",
       "4              0             None       1                0  "
      ]
     },
     "execution_count": 56,
     "metadata": {},
     "output_type": "execute_result"
    }
   ],
   "source": [
    "covid.head()"
   ]
  },
  {
   "cell_type": "markdown",
   "metadata": {},
   "source": [
    "# Splitting the data into training and test datasets"
   ]
  },
  {
   "cell_type": "markdown",
   "metadata": {},
   "source": [
    "Here, we are trying to predict whether the patient has a corona or not using the given data.\n",
    "\n",
    "Hence, the corona_result will be the y label and rest of the data (excluding date, test indication and age) will be the X or the input data."
   ]
  },
  {
   "cell_type": "code",
   "execution_count": 77,
   "metadata": {
    "execution": {
     "iopub.execute_input": "2021-10-11T21:00:09.960190Z",
     "iopub.status.busy": "2021-10-11T21:00:09.959377Z",
     "iopub.status.idle": "2021-10-11T21:00:10.003825Z",
     "shell.execute_reply": "2021-10-11T21:00:10.002836Z",
     "shell.execute_reply.started": "2021-10-11T21:00:09.960129Z"
    }
   },
   "outputs": [
    {
     "data": {
      "text/html": [
       "<div>\n",
       "<style scoped>\n",
       "    .dataframe tbody tr th:only-of-type {\n",
       "        vertical-align: middle;\n",
       "    }\n",
       "\n",
       "    .dataframe tbody tr th {\n",
       "        vertical-align: top;\n",
       "    }\n",
       "\n",
       "    .dataframe thead th {\n",
       "        text-align: right;\n",
       "    }\n",
       "</style>\n",
       "<table border=\"1\" class=\"dataframe\">\n",
       "  <thead>\n",
       "    <tr style=\"text-align: right;\">\n",
       "      <th></th>\n",
       "      <th>cough</th>\n",
       "      <th>fever</th>\n",
       "      <th>sore_throat</th>\n",
       "      <th>shortness_of_breath</th>\n",
       "      <th>head_ache</th>\n",
       "      <th>gender</th>\n",
       "    </tr>\n",
       "  </thead>\n",
       "  <tbody>\n",
       "    <tr>\n",
       "      <th>0</th>\n",
       "      <td>0</td>\n",
       "      <td>0</td>\n",
       "      <td>0</td>\n",
       "      <td>0</td>\n",
       "      <td>0</td>\n",
       "      <td>0</td>\n",
       "    </tr>\n",
       "    <tr>\n",
       "      <th>1</th>\n",
       "      <td>0</td>\n",
       "      <td>0</td>\n",
       "      <td>0</td>\n",
       "      <td>0</td>\n",
       "      <td>0</td>\n",
       "      <td>0</td>\n",
       "    </tr>\n",
       "    <tr>\n",
       "      <th>2</th>\n",
       "      <td>0</td>\n",
       "      <td>0</td>\n",
       "      <td>0</td>\n",
       "      <td>0</td>\n",
       "      <td>0</td>\n",
       "      <td>1</td>\n",
       "    </tr>\n",
       "    <tr>\n",
       "      <th>3</th>\n",
       "      <td>0</td>\n",
       "      <td>0</td>\n",
       "      <td>0</td>\n",
       "      <td>0</td>\n",
       "      <td>0</td>\n",
       "      <td>0</td>\n",
       "    </tr>\n",
       "    <tr>\n",
       "      <th>4</th>\n",
       "      <td>0</td>\n",
       "      <td>0</td>\n",
       "      <td>0</td>\n",
       "      <td>0</td>\n",
       "      <td>0</td>\n",
       "      <td>1</td>\n",
       "    </tr>\n",
       "  </tbody>\n",
       "</table>\n",
       "</div>"
      ],
      "text/plain": [
       "   cough  fever  sore_throat  shortness_of_breath  head_ache  gender\n",
       "0      0      0            0                    0          0       0\n",
       "1      0      0            0                    0          0       0\n",
       "2      0      0            0                    0          0       1\n",
       "3      0      0            0                    0          0       0\n",
       "4      0      0            0                    0          0       1"
      ]
     },
     "execution_count": 77,
     "metadata": {},
     "output_type": "execute_result"
    }
   ],
   "source": [
    "# x data\n",
    "x = covid.drop(labels = [\"test_date\", \"corona_result\", \"age_60_and_above\",'test_indication'], axis=1)\n",
    "x.head()"
   ]
  },
  {
   "cell_type": "code",
   "execution_count": 58,
   "metadata": {
    "execution": {
     "iopub.execute_input": "2021-10-11T21:00:15.815680Z",
     "iopub.status.busy": "2021-10-11T21:00:15.814436Z",
     "iopub.status.idle": "2021-10-11T21:00:15.823662Z",
     "shell.execute_reply": "2021-10-11T21:00:15.822416Z",
     "shell.execute_reply.started": "2021-10-11T21:00:15.815593Z"
    }
   },
   "outputs": [
    {
     "data": {
      "text/plain": [
       "0    0\n",
       "1    0\n",
       "2    0\n",
       "3    0\n",
       "4    0\n",
       "Name: corona_result, dtype: int64"
      ]
     },
     "execution_count": 58,
     "metadata": {},
     "output_type": "execute_result"
    }
   ],
   "source": [
    "# y data\n",
    "y = covid[\"corona_result\"]\n",
    "y.head()"
   ]
  },
  {
   "cell_type": "markdown",
   "metadata": {},
   "source": [
    "# Splitting the data into X train, X test and y train, y test\n",
    "\n",
    "The test_size=0.2 implies that 80% of the sample will be used to train the model, and 20% will be used to test the model's accuracy.\n",
    "\n",
    "The random_state is set so that the results are reproducible, that is every time we run the code, the same instances will be included in the training and testing sets respectively."
   ]
  },
  {
   "cell_type": "code",
   "execution_count": 59,
   "metadata": {
    "execution": {
     "iopub.execute_input": "2021-10-11T21:00:25.989106Z",
     "iopub.status.busy": "2021-10-11T21:00:25.988089Z",
     "iopub.status.idle": "2021-10-11T21:00:26.397745Z",
     "shell.execute_reply": "2021-10-11T21:00:26.396920Z",
     "shell.execute_reply.started": "2021-10-11T21:00:25.989036Z"
    }
   },
   "outputs": [],
   "source": [
    "from sklearn.model_selection import train_test_split\n",
    "X_train, X_test, y_train, y_test = train_test_split(x,y,test_size=0.2, random_state=42)"
   ]
  },
  {
   "cell_type": "code",
   "execution_count": 60,
   "metadata": {
    "execution": {
     "iopub.execute_input": "2021-10-11T21:00:49.380330Z",
     "iopub.status.busy": "2021-10-11T21:00:49.379202Z",
     "iopub.status.idle": "2021-10-11T21:00:49.387173Z",
     "shell.execute_reply": "2021-10-11T21:00:49.386025Z",
     "shell.execute_reply.started": "2021-10-11T21:00:49.380274Z"
    }
   },
   "outputs": [
    {
     "data": {
      "text/plain": [
       "(204728, 51183)"
      ]
     },
     "execution_count": 60,
     "metadata": {},
     "output_type": "execute_result"
    }
   ],
   "source": [
    "# here we can see the number of columns in the input data\n",
    "\n",
    "len(X_train), len(X_test)"
   ]
  },
  {
   "cell_type": "markdown",
   "metadata": {},
   "source": [
    "# Training the models"
   ]
  },
  {
   "cell_type": "markdown",
   "metadata": {},
   "source": [
    "# Random Forest Classifier"
   ]
  },
  {
   "cell_type": "code",
   "execution_count": 61,
   "metadata": {
    "execution": {
     "iopub.execute_input": "2021-10-11T21:00:53.509134Z",
     "iopub.status.busy": "2021-10-11T21:00:53.508119Z",
     "iopub.status.idle": "2021-10-11T21:00:53.710807Z",
     "shell.execute_reply": "2021-10-11T21:00:53.709969Z",
     "shell.execute_reply.started": "2021-10-11T21:00:53.509084Z"
    }
   },
   "outputs": [],
   "source": [
    "from sklearn.ensemble import RandomForestClassifier\n",
    "rf = RandomForestClassifier()"
   ]
  },
  {
   "cell_type": "code",
   "execution_count": 62,
   "metadata": {
    "execution": {
     "iopub.execute_input": "2021-10-11T21:00:56.320850Z",
     "iopub.status.busy": "2021-10-11T21:00:56.319903Z",
     "iopub.status.idle": "2021-10-11T21:01:00.492395Z",
     "shell.execute_reply": "2021-10-11T21:01:00.490706Z",
     "shell.execute_reply.started": "2021-10-11T21:00:56.320801Z"
    }
   },
   "outputs": [
    {
     "data": {
      "text/plain": [
       "RandomForestClassifier()"
      ]
     },
     "execution_count": 62,
     "metadata": {},
     "output_type": "execute_result"
    }
   ],
   "source": [
    "# Here, we fit the model on the input data and test data for training purposes\n",
    "\n",
    "rf.fit(X_train, y_train)"
   ]
  },
  {
   "cell_type": "code",
   "execution_count": 64,
   "metadata": {
    "execution": {
     "iopub.execute_input": "2021-10-11T21:01:02.758294Z",
     "iopub.status.busy": "2021-10-11T21:01:02.757565Z",
     "iopub.status.idle": "2021-10-11T21:01:03.154897Z",
     "shell.execute_reply": "2021-10-11T21:01:03.154144Z",
     "shell.execute_reply.started": "2021-10-11T21:01:02.758244Z"
    }
   },
   "outputs": [
    {
     "name": "stdout",
     "output_type": "stream",
     "text": [
      "Accuracy obtained by RandomForestClassifier model: 97.0204950862591\n"
     ]
    }
   ],
   "source": [
    "# Then, we use the 20% of sample data for testing to measure the accuracy of the model\n",
    "\n",
    "RandomForestClassifierScore = rf.score(X_test,y_test)\n",
    "print(\"Accuracy obtained by RandomForestClassifier model:\", RandomForestClassifierScore*100)"
   ]
  },
  {
   "cell_type": "markdown",
   "metadata": {},
   "source": [
    "### Making a Predictive System\n",
    "### Saving the trained model"
   ]
  },
  {
   "cell_type": "code",
   "execution_count": 67,
   "metadata": {},
   "outputs": [],
   "source": [
    "import pickle"
   ]
  },
  {
   "cell_type": "code",
   "execution_count": 69,
   "metadata": {},
   "outputs": [],
   "source": [
    "filename = 'covid_19.pkl'\n",
    "pickle.dump(rf, open(filename, 'wb'))"
   ]
  },
  {
   "cell_type": "code",
   "execution_count": 70,
   "metadata": {},
   "outputs": [],
   "source": [
    "# loading the saved model\n",
    "loaded_model = pickle.load(open('covid_19.pkl', 'rb'))"
   ]
  },
  {
   "cell_type": "code",
   "execution_count": 78,
   "metadata": {},
   "outputs": [
    {
     "name": "stdout",
     "output_type": "stream",
     "text": [
      "cough\n",
      "fever\n",
      "sore_throat\n",
      "shortness_of_breath\n",
      "head_ache\n",
      "gender\n"
     ]
    }
   ],
   "source": [
    "for column in x.columns:\n",
    "  print(column)"
   ]
  },
  {
   "cell_type": "code",
   "execution_count": null,
   "metadata": {},
   "outputs": [],
   "source": []
  }
 ],
 "metadata": {
  "kernelspec": {
   "display_name": "Python 3 (ipykernel)",
   "language": "python",
   "name": "python3"
  },
  "language_info": {
   "codemirror_mode": {
    "name": "ipython",
    "version": 3
   },
   "file_extension": ".py",
   "mimetype": "text/x-python",
   "name": "python",
   "nbconvert_exporter": "python",
   "pygments_lexer": "ipython3",
   "version": "3.9.7"
  }
 },
 "nbformat": 4,
 "nbformat_minor": 4
}
